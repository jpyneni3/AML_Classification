{
 "cells": [
  {
   "cell_type": "code",
   "execution_count": 30,
   "metadata": {},
   "outputs": [],
   "source": [
    "import csv\n",
    "import pandas as pd"
   ]
  },
  {
   "cell_type": "code",
   "execution_count": 31,
   "metadata": {},
   "outputs": [],
   "source": [
    "file_number = '0001'\n",
    "file_path = 'CSV/{}.csv'.format(file_number)"
   ]
  },
  {
   "cell_type": "code",
   "execution_count": 32,
   "metadata": {},
   "outputs": [
    {
     "name": "stdout",
     "output_type": "stream",
     "text": [
      "   FS Lin    SS Log   FL1 Log   FL2 Log   FL3 Log   FL4 Log   FL5 Log\n",
      "0     427  0.452041  0.140279  0.213405  0.683650  0.160077  0.140279\n",
      "1     917  0.620252  0.253195  0.276627  0.609630  0.203733  0.257787\n",
      "2     890  0.620252  0.248659  0.184568  0.592770  0.140279  0.140279\n",
      "3     855  0.656414  0.246862  0.248659  0.530069  0.167291  0.144721\n",
      "4     921  0.629973  0.212638  0.265240  0.598100  0.212638  0.162236\n"
     ]
    },
    {
     "data": {
      "text/plain": [
       "(26966, 7)"
      ]
     },
     "execution_count": 32,
     "metadata": {},
     "output_type": "execute_result"
    }
   ],
   "source": [
    "df = pd.read_csv(file_path)\n",
    "print(df.head())\n",
    "df.shape\n"
   ]
  },
  {
   "cell_type": "code",
   "execution_count": 33,
   "metadata": {},
   "outputs": [
    {
     "data": {
      "text/plain": [
       "FS Lin     663.982311\n",
       "SS Log       0.554379\n",
       "FL1 Log      0.205182\n",
       "FL2 Log      0.202277\n",
       "FL3 Log      0.589269\n",
       "FL4 Log      0.181832\n",
       "FL5 Log      0.161980\n",
       "dtype: float64"
      ]
     },
     "execution_count": 33,
     "metadata": {},
     "output_type": "execute_result"
    }
   ],
   "source": [
    "df.mean()"
   ]
  },
  {
   "cell_type": "code",
   "execution_count": 34,
   "metadata": {},
   "outputs": [
    {
     "data": {
      "text/plain": [
       "FS Lin     218.849759\n",
       "SS Log       0.095017\n",
       "FL1 Log      0.052198\n",
       "FL2 Log      0.048688\n",
       "FL3 Log      0.107338\n",
       "FL4 Log      0.043249\n",
       "FL5 Log      0.026069\n",
       "dtype: float64"
      ]
     },
     "execution_count": 34,
     "metadata": {},
     "output_type": "execute_result"
    }
   ],
   "source": [
    "df.std()"
   ]
  },
  {
   "cell_type": "code",
   "execution_count": 35,
   "metadata": {},
   "outputs": [],
   "source": [
    "df['FS Lin'] -= float(df['FS Lin'].mean())\n",
    "df['FS Lin'] = df['FS Lin']/df['FS Lin'].std()*.1"
   ]
  },
  {
   "cell_type": "code",
   "execution_count": 36,
   "metadata": {},
   "outputs": [
    {
     "data": {
      "text/html": [
       "<div>\n",
       "<style scoped>\n",
       "    .dataframe tbody tr th:only-of-type {\n",
       "        vertical-align: middle;\n",
       "    }\n",
       "\n",
       "    .dataframe tbody tr th {\n",
       "        vertical-align: top;\n",
       "    }\n",
       "\n",
       "    .dataframe thead th {\n",
       "        text-align: right;\n",
       "    }\n",
       "</style>\n",
       "<table border=\"1\" class=\"dataframe\">\n",
       "  <thead>\n",
       "    <tr style=\"text-align: right;\">\n",
       "      <th></th>\n",
       "      <th>FS Lin</th>\n",
       "      <th>SS Log</th>\n",
       "      <th>FL1 Log</th>\n",
       "      <th>FL2 Log</th>\n",
       "      <th>FL3 Log</th>\n",
       "      <th>FL4 Log</th>\n",
       "      <th>FL5 Log</th>\n",
       "    </tr>\n",
       "  </thead>\n",
       "  <tbody>\n",
       "    <tr>\n",
       "      <th>0</th>\n",
       "      <td>-0.108285</td>\n",
       "      <td>0.452041</td>\n",
       "      <td>0.140279</td>\n",
       "      <td>0.213405</td>\n",
       "      <td>0.683650</td>\n",
       "      <td>0.160077</td>\n",
       "      <td>0.140279</td>\n",
       "    </tr>\n",
       "    <tr>\n",
       "      <th>1</th>\n",
       "      <td>0.115613</td>\n",
       "      <td>0.620252</td>\n",
       "      <td>0.253195</td>\n",
       "      <td>0.276627</td>\n",
       "      <td>0.609630</td>\n",
       "      <td>0.203733</td>\n",
       "      <td>0.257787</td>\n",
       "    </tr>\n",
       "    <tr>\n",
       "      <th>2</th>\n",
       "      <td>0.103275</td>\n",
       "      <td>0.620252</td>\n",
       "      <td>0.248659</td>\n",
       "      <td>0.184568</td>\n",
       "      <td>0.592770</td>\n",
       "      <td>0.140279</td>\n",
       "      <td>0.140279</td>\n",
       "    </tr>\n",
       "    <tr>\n",
       "      <th>3</th>\n",
       "      <td>0.087283</td>\n",
       "      <td>0.656414</td>\n",
       "      <td>0.246862</td>\n",
       "      <td>0.248659</td>\n",
       "      <td>0.530069</td>\n",
       "      <td>0.167291</td>\n",
       "      <td>0.144721</td>\n",
       "    </tr>\n",
       "    <tr>\n",
       "      <th>4</th>\n",
       "      <td>0.117440</td>\n",
       "      <td>0.629973</td>\n",
       "      <td>0.212638</td>\n",
       "      <td>0.265240</td>\n",
       "      <td>0.598100</td>\n",
       "      <td>0.212638</td>\n",
       "      <td>0.162236</td>\n",
       "    </tr>\n",
       "  </tbody>\n",
       "</table>\n",
       "</div>"
      ],
      "text/plain": [
       "     FS Lin    SS Log   FL1 Log   FL2 Log   FL3 Log   FL4 Log   FL5 Log\n",
       "0 -0.108285  0.452041  0.140279  0.213405  0.683650  0.160077  0.140279\n",
       "1  0.115613  0.620252  0.253195  0.276627  0.609630  0.203733  0.257787\n",
       "2  0.103275  0.620252  0.248659  0.184568  0.592770  0.140279  0.140279\n",
       "3  0.087283  0.656414  0.246862  0.248659  0.530069  0.167291  0.144721\n",
       "4  0.117440  0.629973  0.212638  0.265240  0.598100  0.212638  0.162236"
      ]
     },
     "execution_count": 36,
     "metadata": {},
     "output_type": "execute_result"
    }
   ],
   "source": [
    "df.head()"
   ]
  },
  {
   "cell_type": "code",
   "execution_count": 37,
   "metadata": {},
   "outputs": [
    {
     "name": "stdout",
     "output_type": "stream",
     "text": [
      "FS Lin     1.627267e-17\n",
      "SS Log     5.543793e-01\n",
      "FL1 Log    2.051824e-01\n",
      "FL2 Log    2.022766e-01\n",
      "FL3 Log    5.892686e-01\n",
      "FL4 Log    1.818322e-01\n",
      "FL5 Log    1.619795e-01\n",
      "dtype: float64\n",
      "FS Lin     0.100000\n",
      "SS Log     0.095017\n",
      "FL1 Log    0.052198\n",
      "FL2 Log    0.048688\n",
      "FL3 Log    0.107338\n",
      "FL4 Log    0.043249\n",
      "FL5 Log    0.026069\n",
      "dtype: float64\n"
     ]
    }
   ],
   "source": [
    "print(df.mean())\n",
    "print(df.std())"
   ]
  },
  {
   "cell_type": "code",
   "execution_count": 11,
   "metadata": {},
   "outputs": [
    {
     "name": "stdout",
     "output_type": "stream",
     "text": [
      "CSV/0001.csv\n",
      "(26966, 7)\n",
      "CSV/0009.csv\n",
      "(29055, 7)\n",
      "CSV/0017.csv\n",
      "(29099, 7)\n"
     ]
    }
   ],
   "source": [
    "num = 1\n",
    "file_path = 'CSV/{}.csv'\n",
    "while num < 24:\n",
    "    file_name = str(num)\n",
    "    while len(file_name)< 4:\n",
    "        file_name = '0' + file_name\n",
    "    print(file_path.format(file_name))\n",
    "    df = pd.read_csv(file_path.format(file_name))\n",
    "    print(df.shape)\n",
    "    num = num + 8"
   ]
  },
  {
   "cell_type": "code",
   "execution_count": 12,
   "metadata": {},
   "outputs": [
    {
     "name": "stdout",
     "output_type": "stream",
     "text": [
      "CSV/0002.csv\n",
      "(27184, 7)\n",
      "CSV/0010.csv\n",
      "(29144, 7)\n",
      "CSV/0018.csv\n",
      "(28915, 7)\n"
     ]
    }
   ],
   "source": [
    "num = 2\n",
    "file_path = 'CSV/{}.csv'\n",
    "while num < 24:\n",
    "    file_name = str(num)\n",
    "    while len(file_name)< 4:\n",
    "        file_name = '0' + file_name\n",
    "    print(file_path.format(file_name))\n",
    "    df = pd.read_csv(file_path.format(file_name))\n",
    "    print(df.shape)\n",
    "    num = num + 8"
   ]
  },
  {
   "cell_type": "code",
   "execution_count": null,
   "metadata": {},
   "outputs": [],
   "source": []
  }
 ],
 "metadata": {
  "kernelspec": {
   "display_name": "Python 3",
   "language": "python",
   "name": "python3"
  },
  "language_info": {
   "codemirror_mode": {
    "name": "ipython",
    "version": 3
   },
   "file_extension": ".py",
   "mimetype": "text/x-python",
   "name": "python",
   "nbconvert_exporter": "python",
   "pygments_lexer": "ipython3",
   "version": "3.7.7"
  }
 },
 "nbformat": 4,
 "nbformat_minor": 4
}
