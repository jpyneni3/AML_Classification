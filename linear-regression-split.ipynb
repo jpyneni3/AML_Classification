{
 "cells": [
  {
   "cell_type": "code",
   "execution_count": 1,
   "metadata": {},
   "outputs": [],
   "source": [
    "import pandas as pd\n",
    "from sklearn.model_selection import train_test_split\n",
    "from sklearn import linear_model\n",
    "from sklearn.metrics import mean_squared_error, r2_score\n",
    "import numpy as np"
   ]
  },
  {
   "cell_type": "code",
   "execution_count": 2,
   "metadata": {},
   "outputs": [],
   "source": [
    "random = 2"
   ]
  },
  {
   "cell_type": "code",
   "execution_count": 3,
   "metadata": {},
   "outputs": [],
   "source": [
    "data = pd.read_csv(\"train_mean_features_labelled.csv\",header=0, index_col=0)"
   ]
  },
  {
   "cell_type": "code",
   "execution_count": 4,
   "metadata": {},
   "outputs": [
    {
     "name": "stdout",
     "output_type": "stream",
     "text": [
      "(143, 56) (143,)\n",
      "(36, 56) (36,)\n"
     ]
    }
   ],
   "source": [
    "Y = data['label']\n",
    "X = data.drop(['label'], axis=1)\n",
    "\n",
    "#Performing 80/20 data split\n",
    "X_train, X_test, Y_train, Y_test = train_test_split(X, Y, test_size=0.2, random_state=random)\n",
    "print(X_train.shape, Y_train.shape)\n",
    "print(X_test.shape, Y_test.shape)"
   ]
  },
  {
   "cell_type": "code",
   "execution_count": 5,
   "metadata": {},
   "outputs": [],
   "source": [
    "#regression model\n",
    "model = linear_model.LinearRegression()"
   ]
  },
  {
   "cell_type": "code",
   "execution_count": 6,
   "metadata": {},
   "outputs": [
    {
     "data": {
      "text/plain": [
       "LinearRegression(copy_X=True, fit_intercept=True, n_jobs=None, normalize=False)"
      ]
     },
     "execution_count": 6,
     "metadata": {},
     "output_type": "execute_result"
    }
   ],
   "source": [
    "#training model\n",
    "model.fit(X_train, Y_train)"
   ]
  },
  {
   "cell_type": "code",
   "execution_count": 7,
   "metadata": {},
   "outputs": [],
   "source": [
    "#applying training model to make a prediction on the test set\n",
    "y_pred = model.predict(X_test)"
   ]
  },
  {
   "cell_type": "code",
   "execution_count": 8,
   "metadata": {},
   "outputs": [
    {
     "name": "stdout",
     "output_type": "stream",
     "text": [
      "Coefficients: [-1.30369982e+13 -1.27542011e+00  1.66340669e+00  2.45640324e+00\n",
      " -2.18464365e+00 -3.55093543e+00 -5.89675362e+00  5.57331958e-14\n",
      " -1.84039542e+00  1.35676493e+00 -6.18669872e-01  5.41572579e+00\n",
      "  1.50883881e+00  5.43742661e+00 -3.09709977e-15 -1.12202633e+01\n",
      " -1.89207903e+00 -6.73745486e-01 -3.50727180e+00 -1.67879002e+00\n",
      " -1.15976445e+00  9.19624451e-14  2.73473365e+00 -8.31834438e-01\n",
      "  9.69318899e-01  2.66518338e+00 -6.20582185e-01  1.55703379e+00\n",
      " -1.06382953e-14  1.65536589e+01 -6.28573039e-01  9.90702851e-02\n",
      " -4.74220057e+00 -4.01430187e-01  3.83272058e-01 -2.33287953e-14\n",
      " -9.44936678e+00 -1.01087371e+00  1.83712494e+00 -2.38270224e+00\n",
      "  2.37598290e+00  5.60461764e-01  1.67557789e-15  1.03524668e+01\n",
      "  9.74827997e-01 -4.61363516e+00  5.51997320e+00  6.26857890e-01\n",
      " -5.92473008e-01  2.68650322e-14 -7.12859109e+00 -1.15447496e-01\n",
      "  1.01028582e+00 -1.27734611e+00  7.69895439e-01 -4.51099829e+00]\n",
      "Intercept: 1.7692547554603353\n",
      "Mean squared error (MSE): 0.03\n"
     ]
    }
   ],
   "source": [
    "print('Coefficients:', model.coef_)\n",
    "print('Intercept:', model.intercept_)\n",
    "print('Mean squared error (MSE): %.2f'\n",
    "      % mean_squared_error(Y_test, y_pred))"
   ]
  },
  {
   "cell_type": "code",
   "execution_count": 9,
   "metadata": {},
   "outputs": [
    {
     "name": "stdout",
     "output_type": "stream",
     "text": [
      "Coefficient of determination (R^2): 0.768695876364772\n"
     ]
    }
   ],
   "source": [
    "print('Coefficient of determination (R^2): '+str(r2_score(Y_test, y_pred)))"
   ]
  },
  {
   "cell_type": "code",
   "execution_count": null,
   "metadata": {},
   "outputs": [],
   "source": []
  }
 ],
 "metadata": {
  "kernelspec": {
   "display_name": "Python 3",
   "language": "python",
   "name": "python3"
  },
  "language_info": {
   "codemirror_mode": {
    "name": "ipython",
    "version": 3
   },
   "file_extension": ".py",
   "mimetype": "text/x-python",
   "name": "python",
   "nbconvert_exporter": "python",
   "pygments_lexer": "ipython3",
   "version": "3.7.3"
  }
 },
 "nbformat": 4,
 "nbformat_minor": 4
}
