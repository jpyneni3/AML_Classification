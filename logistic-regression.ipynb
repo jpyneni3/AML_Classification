{
 "cells": [
  {
   "cell_type": "code",
   "execution_count": 1,
   "metadata": {},
   "outputs": [],
   "source": [
    "import pandas as pd\n",
    "from sklearn.model_selection import train_test_split\n",
    "from sklearn.linear_model import LogisticRegression\n",
    "\n",
    "from sklearn.metrics import r2_score, confusion_matrix\n",
    "import numpy as np\n",
    "from matplotlib import pyplot as plt"
   ]
  },
  {
   "cell_type": "code",
   "execution_count": 2,
   "metadata": {},
   "outputs": [],
   "source": [
    "#Importing the split data (80/20)\n",
    "\n",
    "x_train = pd.read_csv(\"data/train/x_train.csv\", header=0,index_col=0)\n",
    "y_train = pd.read_csv(\"data/train/y_train.csv\", header=0,index_col=0)\n",
    "\n",
    "x_test = pd.read_csv(\"data/val/x_val.csv\", header=0,index_col=0)\n",
    "y_test = pd.read_csv(\"data/val/y_val.csv\", header=0,index_col=0)"
   ]
  },
  {
   "cell_type": "code",
   "execution_count": 3,
   "metadata": {},
   "outputs": [],
   "source": [
    "model = LogisticRegression(solver='liblinear', random_state=0)"
   ]
  },
  {
   "cell_type": "code",
   "execution_count": 4,
   "metadata": {},
   "outputs": [
    {
     "name": "stderr",
     "output_type": "stream",
     "text": [
      "/Users/manasavegesna/anaconda3/lib/python3.7/site-packages/sklearn/utils/validation.py:760: DataConversionWarning: A column-vector y was passed when a 1d array was expected. Please change the shape of y to (n_samples, ), for example using ravel().\n",
      "  y = column_or_1d(y, warn=True)\n"
     ]
    },
    {
     "data": {
      "text/plain": [
       "LogisticRegression(C=1.0, class_weight=None, dual=False, fit_intercept=True,\n",
       "                   intercept_scaling=1, l1_ratio=None, max_iter=100,\n",
       "                   multi_class='auto', n_jobs=None, penalty='l2',\n",
       "                   random_state=0, solver='liblinear', tol=0.0001, verbose=0,\n",
       "                   warm_start=False)"
      ]
     },
     "execution_count": 4,
     "metadata": {},
     "output_type": "execute_result"
    }
   ],
   "source": [
    "model.fit(x_train,y_train)"
   ]
  },
  {
   "cell_type": "code",
   "execution_count": 5,
   "metadata": {},
   "outputs": [],
   "source": [
    "#prediction\n",
    "y_pred = model.predict(x_test)"
   ]
  },
  {
   "cell_type": "code",
   "execution_count": 6,
   "metadata": {},
   "outputs": [
    {
     "data": {
      "text/plain": [
       "array([0.3441886])"
      ]
     },
     "execution_count": 6,
     "metadata": {},
     "output_type": "execute_result"
    }
   ],
   "source": [
    "model.intercept_"
   ]
  },
  {
   "cell_type": "code",
   "execution_count": 7,
   "metadata": {},
   "outputs": [
    {
     "data": {
      "text/plain": [
       "array([[-4.39204563e-17, -6.25553265e-01, -1.47732608e-01,\n",
       "        -9.05520871e-02,  1.13125246e-01, -3.49688477e-02,\n",
       "        -5.79914059e-03,  8.29809750e-17, -6.24718101e-01,\n",
       "        -1.20938538e-01,  3.07919391e-02,  6.68965846e-02,\n",
       "         1.03628594e-01,  1.16067746e-01,  8.00807191e-18,\n",
       "        -6.48492161e-01,  4.94244423e-01,  5.92029534e-02,\n",
       "         1.75242421e-02, -8.18472554e-02, -5.73526250e-03,\n",
       "         4.39604050e-17, -6.04282563e-01, -1.64703568e+00,\n",
       "         4.55003791e-01,  8.16162109e-03, -1.81419637e+00,\n",
       "         7.55019658e-01,  1.46763211e-17, -6.32542307e-01,\n",
       "        -2.34107478e-02, -7.16425180e-02,  1.77839113e-02,\n",
       "         3.03229693e-01,  7.55417998e-01,  3.19169260e-17,\n",
       "        -6.40076798e-01,  1.11774694e+00,  1.07520640e+00,\n",
       "         4.38219982e-02,  1.38149289e+00,  1.05170411e+00,\n",
       "        -4.38761067e-17, -6.31967600e-01, -1.09025357e-01,\n",
       "        -6.40396337e-02,  1.00164795e-01, -1.61224074e-01,\n",
       "        -5.10367552e-01,  4.21664094e-17, -6.74165269e-01,\n",
       "        -1.53121326e-01, -1.21214208e-01, -2.96877509e-01,\n",
       "        -1.11324077e-01, -4.41689512e-02]])"
      ]
     },
     "execution_count": 7,
     "metadata": {},
     "output_type": "execute_result"
    }
   ],
   "source": [
    "model.coef_"
   ]
  },
  {
   "cell_type": "code",
   "execution_count": 8,
   "metadata": {},
   "outputs": [
    {
     "data": {
      "text/plain": [
       "array([[15,  0],\n",
       "       [ 3,  0]])"
      ]
     },
     "execution_count": 8,
     "metadata": {},
     "output_type": "execute_result"
    }
   ],
   "source": [
    "#confusion matrix\n",
    "\n",
    "confusion_matrix(y_test, y_pred)"
   ]
  },
  {
   "cell_type": "code",
   "execution_count": 9,
   "metadata": {},
   "outputs": [
    {
     "data": {
      "text/plain": [
       "0.8333333333333334"
      ]
     },
     "execution_count": 9,
     "metadata": {},
     "output_type": "execute_result"
    }
   ],
   "source": [
    "model.score(x_test,y_test)"
   ]
  },
  {
   "cell_type": "code",
   "execution_count": null,
   "metadata": {},
   "outputs": [],
   "source": []
  }
 ],
 "metadata": {
  "kernelspec": {
   "display_name": "Python 3",
   "language": "python",
   "name": "python3"
  },
  "language_info": {
   "codemirror_mode": {
    "name": "ipython",
    "version": 3
   },
   "file_extension": ".py",
   "mimetype": "text/x-python",
   "name": "python",
   "nbconvert_exporter": "python",
   "pygments_lexer": "ipython3",
   "version": "3.7.3"
  }
 },
 "nbformat": 4,
 "nbformat_minor": 4
}
