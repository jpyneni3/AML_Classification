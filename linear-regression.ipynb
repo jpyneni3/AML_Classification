{
 "cells": [
  {
   "cell_type": "code",
   "execution_count": 1,
   "metadata": {},
   "outputs": [],
   "source": [
    "import pandas as pd\n",
    "from sklearn.model_selection import train_test_split\n",
    "from sklearn import linear_model\n",
    "from sklearn.metrics import mean_squared_error, r2_score\n",
    "import numpy as np"
   ]
  },
  {
   "cell_type": "code",
   "execution_count": 2,
   "metadata": {},
   "outputs": [],
   "source": [
    "data = pd.read_csv(\"train_mean_features_labelled.csv\",header=0, index_col=0)"
   ]
  },
  {
   "cell_type": "code",
   "execution_count": 3,
   "metadata": {},
   "outputs": [],
   "source": [
    "Y = data['label']\n",
    "X = data.drop(['label'], axis=1)\n",
    "\n",
    "#Performing 80/20 data split\n",
    "X_train, X_test, Y_train, Y_test = train_test_split(X, Y, test_size=0.2)\n",
    "print(X_train.shape, Y_train.shape)\n",
    "print(X_test.shape, Y_test.shape)"
   ]
  },
  {
   "cell_type": "code",
   "execution_count": 6,
   "metadata": {},
   "outputs": [],
   "source": [
    "#loading the split data (80/20)\n",
    "\n",
    "x_train = pd.read_csv(\"data/train/x_train.csv\", header=0,index_col=0)\n",
    "y_train = pd.read_csv(\"data/train/y_train.csv\", header=0,index_col=0)\n",
    "\n",
    "x_test = pd.read_csv(\"data/val/x_val.csv\", header=0,index_col=0)\n",
    "y_test = pd.read_csv(\"data/val/y_val.csv\", header=0,index_col=0)"
   ]
  },
  {
   "cell_type": "code",
   "execution_count": 7,
   "metadata": {},
   "outputs": [
    {
     "data": {
      "text/plain": [
       "((161, 56), (161, 1))"
      ]
     },
     "execution_count": 7,
     "metadata": {},
     "output_type": "execute_result"
    }
   ],
   "source": [
    "x_train.shape, y_train.shape"
   ]
  },
  {
   "cell_type": "code",
   "execution_count": 8,
   "metadata": {},
   "outputs": [
    {
     "data": {
      "text/plain": [
       "((18, 56), (18, 1))"
      ]
     },
     "execution_count": 8,
     "metadata": {},
     "output_type": "execute_result"
    }
   ],
   "source": [
    "x_test.shape, y_test.shape"
   ]
  },
  {
   "cell_type": "code",
   "execution_count": 9,
   "metadata": {},
   "outputs": [],
   "source": [
    "#regression model\n",
    "model = linear_model.LinearRegression()"
   ]
  },
  {
   "cell_type": "code",
   "execution_count": 10,
   "metadata": {},
   "outputs": [
    {
     "data": {
      "text/plain": [
       "LinearRegression(copy_X=True, fit_intercept=True, n_jobs=None, normalize=False)"
      ]
     },
     "execution_count": 10,
     "metadata": {},
     "output_type": "execute_result"
    }
   ],
   "source": [
    "#training model\n",
    "model.fit(x_train, y_train)"
   ]
  },
  {
   "cell_type": "code",
   "execution_count": 11,
   "metadata": {},
   "outputs": [],
   "source": [
    "#applying training model to make a prediction on the test set\n",
    "y_pred = model.predict(x_test)"
   ]
  },
  {
   "cell_type": "code",
   "execution_count": 12,
   "metadata": {},
   "outputs": [
    {
     "name": "stdout",
     "output_type": "stream",
     "text": [
      "Coefficients: [[ 5.44096294e+13  5.04514480e-01 -2.05796502e+00 -1.51046440e-01\n",
      "  -1.88268200e+00 -5.19933548e+00 -2.60371651e+00  5.76205750e-14\n",
      "  -3.84500681e-01 -1.42881322e+00  2.78582895e+00  4.40463029e+00\n",
      "   1.46381380e+00  6.39726629e+00  3.20951035e-14 -7.04532652e+00\n",
      "  -1.27215640e+00  1.45595607e+00 -9.86419328e-01 -2.39243826e+00\n",
      "   4.87610345e-01  7.43060086e-14  5.09064148e+00 -1.44556321e+00\n",
      "   2.99725556e-01 -2.02571026e-01  5.80093567e-01  1.57669954e+00\n",
      "  -5.50035052e-14  1.50698145e+01  6.03180821e-01  1.84997338e-01\n",
      "  -2.48035567e+00 -1.47497159e+00  2.51842026e-01  2.78518023e-14\n",
      "  -1.45398839e+01 -6.66975142e-01  2.09896636e+00 -2.18332517e+00\n",
      "   3.44988418e+00 -5.12684048e-01  1.29732426e-14  1.10385318e+01\n",
      "  -1.59320138e+00 -4.88616559e+00  3.17007978e+00  1.09196899e+00\n",
      "  -1.63147655e+00  4.15162102e-14 -1.03087396e+01  5.87103400e+00\n",
      "   3.17006728e-01 -8.67841069e-01  2.87250684e+00 -5.99921340e+00]]\n",
      "Intercept: [1.05774868]\n",
      "Mean squared error (MSE): 0.06\n",
      "Coefficient of determination (R^2): 0.60\n"
     ]
    }
   ],
   "source": [
    "print('Coefficients:', model.coef_)\n",
    "print('Intercept:', model.intercept_)\n",
    "print('Mean squared error (MSE): %.2f'\n",
    "      % mean_squared_error(y_test, y_pred))"
   ]
  },
  {
   "cell_type": "code",
   "execution_count": 15,
   "metadata": {},
   "outputs": [
    {
     "name": "stdout",
     "output_type": "stream",
     "text": [
      "Coefficient of determination (R^2): 0.6011117722986394\n"
     ]
    }
   ],
   "source": [
    "print('Coefficient of determination (R^2): '+str(r2_score(y_test, y_pred)))"
   ]
  },
  {
   "cell_type": "code",
   "execution_count": 16,
   "metadata": {},
   "outputs": [
    {
     "name": "stdout",
     "output_type": "stream",
     "text": [
      "Accuracy: 60\n"
     ]
    }
   ],
   "source": [
    "perc = '%2.f'% (r2_score(y_test, y_pred)*100)\n",
    "print(\"Accuracy: \"+perc)"
   ]
  },
  {
   "cell_type": "code",
   "execution_count": 20,
   "metadata": {},
   "outputs": [],
   "source": [
    "test_data = pd.read_csv('test_mean_features.csv',header=0, index_col=0)\n",
    "model.fit(X,Y)\n",
    "Y_pred = model.predict(test_data)"
   ]
  }
 ],
 "metadata": {
  "kernelspec": {
   "display_name": "Python 3",
   "language": "python",
   "name": "python3"
  },
  "language_info": {
   "codemirror_mode": {
    "name": "ipython",
    "version": 3
   },
   "file_extension": ".py",
   "mimetype": "text/x-python",
   "name": "python",
   "nbconvert_exporter": "python",
   "pygments_lexer": "ipython3",
   "version": "3.7.3"
  }
 },
 "nbformat": 4,
 "nbformat_minor": 4
}
